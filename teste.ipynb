{
 "cells": [
  {
   "cell_type": "code",
   "execution_count": 1,
   "id": "77fc016d",
   "metadata": {},
   "outputs": [],
   "source": [
    "import cvmpy"
   ]
  },
  {
   "cell_type": "code",
   "execution_count": 2,
   "id": "72cacf5f",
   "metadata": {},
   "outputs": [
    {
     "name": "stdout",
     "output_type": "stream",
     "text": [
      "https://dados.cvm.gov.br/dados/FI/DOC/CDA/DADOS/cda_fi_202505.zip\n",
      "Done.\n"
     ]
    }
   ],
   "source": [
    "fi = cvmpy.FI()\n",
    "fi.fetch_historical_data(dataset=\"composicao_diversificacao\",start_date='2025-05-01',end_date='2025-05-31')"
   ]
  },
  {
   "cell_type": "code",
   "execution_count": 11,
   "id": "b132ad7f",
   "metadata": {},
   "outputs": [
    {
     "data": {
      "text/plain": [
       "array(['Debêntures', 'Títulos de Crédito Privado',\n",
       "       'Títulos ligados ao agronegócio'], dtype=object)"
      ]
     },
     "execution_count": 11,
     "metadata": {},
     "output_type": "execute_result"
    }
   ],
   "source": [
    "fi.composicao_diversificacao.cda_fi_BLC_6['TP_APLIC'].unique()"
   ]
  },
  {
   "cell_type": "code",
   "execution_count": 12,
   "id": "ae79b12f",
   "metadata": {},
   "outputs": [],
   "source": [
    "TIPO_6 = fi.composicao_diversificacao.cda_fi_BLC_6"
   ]
  },
  {
   "cell_type": "code",
   "execution_count": 24,
   "id": "13ede72f",
   "metadata": {},
   "outputs": [],
   "source": [
    "cred_priv = TIPO_6.loc[TIPO_6['TP_APLIC']=='Títulos de Crédito Privado']"
   ]
  },
  {
   "cell_type": "code",
   "execution_count": 27,
   "id": "961f7d93",
   "metadata": {},
   "outputs": [
    {
     "data": {
      "text/plain": [
       "array(['Nota Promissória/ Commercial Paper/ Export Note', 'CCB', 'CCI',\n",
       "       'CCCB'], dtype=object)"
      ]
     },
     "execution_count": 27,
     "metadata": {},
     "output_type": "execute_result"
    }
   ],
   "source": [
    "cred_priv['TP_ATIVO'].unique()"
   ]
  },
  {
   "cell_type": "code",
   "execution_count": 25,
   "id": "42295c4f",
   "metadata": {},
   "outputs": [],
   "source": [
    "CRA = TIPO_6.loc[TIPO_6['TP_APLIC']=='Títulos ligados ao agronegócio']"
   ]
  },
  {
   "cell_type": "code",
   "execution_count": 21,
   "id": "e302a81f",
   "metadata": {},
   "outputs": [],
   "source": [
    "import pandas as pd\n",
    "pd.set_option('display.max_columns', None)"
   ]
  },
  {
   "cell_type": "code",
   "execution_count": 31,
   "id": "fa6b01c3",
   "metadata": {},
   "outputs": [
    {
     "data": {
      "text/plain": [
       "array(['CRA', 'LCA', 'CDCA', 'NCA', 'CPR'], dtype=object)"
      ]
     },
     "execution_count": 31,
     "metadata": {},
     "output_type": "execute_result"
    }
   ],
   "source": [
    "CRA['TP_ATIVO'].unique()"
   ]
  },
  {
   "cell_type": "markdown",
   "id": "c8cf0bab",
   "metadata": {},
   "source": [
    "BUSCANDO ATIVOS LONG BIASED"
   ]
  },
  {
   "cell_type": "code",
   "execution_count": 3,
   "id": "5d52fca0",
   "metadata": {},
   "outputs": [
    {
     "name": "stdout",
     "output_type": "stream",
     "text": [
      "Fetching data from: https://dados.cvm.gov.br/dados/FI/CAD/DADOS/cad_fi_hist.zip\n",
      "Done.\n"
     ]
    }
   ],
   "source": [
    "fi = cvmpy.FI()\n",
    "fi.fetch_static_data(dataset='extrato_novo')\n",
    "df_nome = fi.cad_fi_hist_denom_social\n",
    "df_nome['DT_FIM_DENOM_SOCIAL'] = df_nome['DT_FIM_DENOM_SOCIAL'].fillna(0)\n",
    "df_nome = df_nome.loc[df_nome['DT_FIM_DENOM_SOCIAL'] == 0]\n",
    "df_nome = df_nome[['CNPJ_FUNDO','DENOM_SOCIAL']]\n",
    "df_nome['DENOM_SOCIAL'] = df_nome['DENOM_SOCIAL'].fillna(\"\")\n",
    "df_nome.columns = ['CNPJ_FUNDO_CLASSE','NOME_FUNDO']\n",
    "df_nome = df_nome.sort_values(by=\"NOME_FUNDO\", ascending=False)\n",
    "df_nome = df_nome.drop_duplicates(subset=\"CNPJ_FUNDO_CLASSE\", keep=\"first\")"
   ]
  },
  {
   "cell_type": "code",
   "execution_count": 6,
   "id": "0d6de563",
   "metadata": {},
   "outputs": [],
   "source": [
    "df_long = df_nome.loc[df_nome['NOME_FUNDO'].str.contains(\"LONG BIAS\")]"
   ]
  },
  {
   "cell_type": "code",
   "execution_count": 11,
   "id": "0e99a74d",
   "metadata": {},
   "outputs": [],
   "source": [
    "cnpjs = df_long['CNPJ_FUNDO_CLASSE'].unique().tolist()"
   ]
  },
  {
   "cell_type": "code",
   "execution_count": 10,
   "id": "8b88f678",
   "metadata": {},
   "outputs": [
    {
     "data": {
      "text/html": [
       "<div>\n",
       "<style scoped>\n",
       "    .dataframe tbody tr th:only-of-type {\n",
       "        vertical-align: middle;\n",
       "    }\n",
       "\n",
       "    .dataframe tbody tr th {\n",
       "        vertical-align: top;\n",
       "    }\n",
       "\n",
       "    .dataframe thead th {\n",
       "        text-align: right;\n",
       "    }\n",
       "</style>\n",
       "<table border=\"1\" class=\"dataframe\">\n",
       "  <thead>\n",
       "    <tr style=\"text-align: right;\">\n",
       "      <th></th>\n",
       "      <th>CNPJ_FUNDO_CLASSE</th>\n",
       "      <th>NOME_FUNDO</th>\n",
       "    </tr>\n",
       "  </thead>\n",
       "  <tbody>\n",
       "    <tr>\n",
       "      <th>68351</th>\n",
       "      <td>20.622.305/0001-42</td>\n",
       "      <td>ÓRAMA OPPORTUNITY LONG BIASED FUNDO DE INVESTI...</td>\n",
       "    </tr>\n",
       "    <tr>\n",
       "      <th>54232</th>\n",
       "      <td>14.188.135/0001-37</td>\n",
       "      <td>ÁTICO LONG BIASED FUNDO DE INVESTIMENTO EM COT...</td>\n",
       "    </tr>\n",
       "    <tr>\n",
       "      <th>87226</th>\n",
       "      <td>31.389.814/0001-93</td>\n",
       "      <td>XP W1 LONG BIASED FUNDO DE INVESTIMENTO EM COT...</td>\n",
       "    </tr>\n",
       "    <tr>\n",
       "      <th>53885</th>\n",
       "      <td>14.115.120/0001-49</td>\n",
       "      <td>XP UNIQUE LONG BIASED FUNDO DE INVESTIMENTO MU...</td>\n",
       "    </tr>\n",
       "    <tr>\n",
       "      <th>77616</th>\n",
       "      <td>26.374.780/0001-23</td>\n",
       "      <td>XP QI LONG BIASED FUNDO DE INVESTIMENTO EM COT...</td>\n",
       "    </tr>\n",
       "    <tr>\n",
       "      <th>...</th>\n",
       "      <td>...</td>\n",
       "      <td>...</td>\n",
       "    </tr>\n",
       "    <tr>\n",
       "      <th>136112</th>\n",
       "      <td>61.018.922/0001-10</td>\n",
       "      <td>ABSOLUTE PACE C1 LONG BIASED FIC DE FIF DE AÇÕ...</td>\n",
       "    </tr>\n",
       "    <tr>\n",
       "      <th>90769</th>\n",
       "      <td>33.625.506/0001-45</td>\n",
       "      <td>4UM LONG BIASED FUNDO DE INVESTIMENTO FINANCEI...</td>\n",
       "    </tr>\n",
       "    <tr>\n",
       "      <th>56107</th>\n",
       "      <td>15.109.357/0001-80</td>\n",
       "      <td>3R CEDAR LONG BIASED FUNDO DE INVESTIMENTO EM ...</td>\n",
       "    </tr>\n",
       "    <tr>\n",
       "      <th>65920</th>\n",
       "      <td>19.254.461/0001-19</td>\n",
       "      <td>3R CEDAR LONG BIASED FUNDO DE INVESTIMENTO DE ...</td>\n",
       "    </tr>\n",
       "    <tr>\n",
       "      <th>67217</th>\n",
       "      <td>20.006.729/0001-82</td>\n",
       "      <td>3R CEDAR 30 LONG BIASED FUNDO DE INVESTIMENTO ...</td>\n",
       "    </tr>\n",
       "  </tbody>\n",
       "</table>\n",
       "<p>743 rows × 2 columns</p>\n",
       "</div>"
      ],
      "text/plain": [
       "         CNPJ_FUNDO_CLASSE                                         NOME_FUNDO\n",
       "68351   20.622.305/0001-42  ÓRAMA OPPORTUNITY LONG BIASED FUNDO DE INVESTI...\n",
       "54232   14.188.135/0001-37  ÁTICO LONG BIASED FUNDO DE INVESTIMENTO EM COT...\n",
       "87226   31.389.814/0001-93  XP W1 LONG BIASED FUNDO DE INVESTIMENTO EM COT...\n",
       "53885   14.115.120/0001-49  XP UNIQUE LONG BIASED FUNDO DE INVESTIMENTO MU...\n",
       "77616   26.374.780/0001-23  XP QI LONG BIASED FUNDO DE INVESTIMENTO EM COT...\n",
       "...                    ...                                                ...\n",
       "136112  61.018.922/0001-10  ABSOLUTE PACE C1 LONG BIASED FIC DE FIF DE AÇÕ...\n",
       "90769   33.625.506/0001-45  4UM LONG BIASED FUNDO DE INVESTIMENTO FINANCEI...\n",
       "56107   15.109.357/0001-80  3R CEDAR LONG BIASED FUNDO DE INVESTIMENTO EM ...\n",
       "65920   19.254.461/0001-19  3R CEDAR LONG BIASED FUNDO DE INVESTIMENTO DE ...\n",
       "67217   20.006.729/0001-82  3R CEDAR 30 LONG BIASED FUNDO DE INVESTIMENTO ...\n",
       "\n",
       "[743 rows x 2 columns]"
      ]
     },
     "execution_count": 10,
     "metadata": {},
     "output_type": "execute_result"
    }
   ],
   "source": [
    "df_long"
   ]
  },
  {
   "cell_type": "code",
   "execution_count": null,
   "id": "bafb8ce2",
   "metadata": {},
   "outputs": [
    {
     "data": {
      "text/plain": [
       "743"
      ]
     },
     "execution_count": 13,
     "metadata": {},
     "output_type": "execute_result"
    }
   ],
   "source": [
    "len(cnpjs)"
   ]
  },
  {
   "cell_type": "code",
   "execution_count": 14,
   "id": "6933ad42",
   "metadata": {},
   "outputs": [
    {
     "name": "stdout",
     "output_type": "stream",
     "text": [
      "https://dados.cvm.gov.br/dados/FI/DOC/INF_DIARIO/DADOS/inf_diario_fi_202505.zip\n",
      "https://dados.cvm.gov.br/dados/FI/DOC/INF_DIARIO/DADOS/inf_diario_fi_202506.zip\n",
      "https://dados.cvm.gov.br/dados/FI/DOC/INF_DIARIO/DADOS/inf_diario_fi_202507.zip\n",
      "https://dados.cvm.gov.br/dados/FI/DOC/INF_DIARIO/DADOS/inf_diario_fi_202508.zip\n",
      "Done.\n"
     ]
    }
   ],
   "source": [
    "from dateutil.relativedelta import relativedelta\n",
    "from datetime import date, datetime, timedelta\n",
    "\n",
    "d0 = datetime.today().date()\n",
    "mes1 = d0 - relativedelta(months=1)\n",
    "mes2 = d0 - relativedelta(months=2)\n",
    "mes3 = d0 - relativedelta(months=3)\n",
    "mes4 = d0 - relativedelta(months=4)\n",
    "mes5 = d0 - relativedelta(months=5)\n",
    "mes6 = d0 - relativedelta(months=6)\n",
    "mes7 = d0 - relativedelta(months=7)\n",
    "mes8 = d0 - relativedelta(months=8)\n",
    "mes9 = d0 - relativedelta(months=9)\n",
    "mes10 = d0 - relativedelta(months=10)\n",
    "mes11 = d0 - relativedelta(months=11)\n",
    "mes12 = d0 - relativedelta(months=12)\n",
    "m1 = mes1.strftime(\"%m/%Y\")\n",
    "m2 = mes2.strftime(\"%m/%Y\")\n",
    "m3 = mes3.strftime(\"%m/%Y\")\n",
    "m4 = mes4.strftime(\"%m/%Y\")\n",
    "\n",
    "fundos = cvmpy.FI()\n",
    "fundos.fetch_historical_data(dataset=\"informe_diario\", start_date=m4, end_date=m1)"
   ]
  },
  {
   "cell_type": "code",
   "execution_count": 17,
   "id": "022c3b61",
   "metadata": {},
   "outputs": [],
   "source": [
    "dados_pl_cotas = fundos.informe_diario.inf_diario_fi"
   ]
  },
  {
   "cell_type": "code",
   "execution_count": 30,
   "id": "66c9e224",
   "metadata": {},
   "outputs": [],
   "source": [
    "fundos_long_bias = dados_pl_cotas.loc[dados_pl_cotas['CNPJ_FUNDO_CLASSE'].isin(cnpjs)]"
   ]
  },
  {
   "cell_type": "code",
   "execution_count": 39,
   "id": "cbee31ae",
   "metadata": {},
   "outputs": [],
   "source": [
    "data_maxima = datetime(2025,8,29)"
   ]
  },
  {
   "cell_type": "code",
   "execution_count": 40,
   "id": "0a582456",
   "metadata": {},
   "outputs": [],
   "source": [
    "import pandas as pd\n",
    "fundos_long_bias_data = fundos_long_bias.loc[fundos_long_bias['DT_COMPTC'] == pd.to_datetime(data_maxima)]"
   ]
  },
  {
   "cell_type": "code",
   "execution_count": 41,
   "id": "9b82b24a",
   "metadata": {},
   "outputs": [
    {
     "data": {
      "text/html": [
       "<div>\n",
       "<style scoped>\n",
       "    .dataframe tbody tr th:only-of-type {\n",
       "        vertical-align: middle;\n",
       "    }\n",
       "\n",
       "    .dataframe tbody tr th {\n",
       "        vertical-align: top;\n",
       "    }\n",
       "\n",
       "    .dataframe thead th {\n",
       "        text-align: right;\n",
       "    }\n",
       "</style>\n",
       "<table border=\"1\" class=\"dataframe\">\n",
       "  <thead>\n",
       "    <tr style=\"text-align: right;\">\n",
       "      <th></th>\n",
       "      <th>TP_FUNDO_CLASSE</th>\n",
       "      <th>CNPJ_FUNDO_CLASSE</th>\n",
       "      <th>ID_SUBCLASSE</th>\n",
       "      <th>DT_COMPTC</th>\n",
       "      <th>VL_TOTAL</th>\n",
       "      <th>VL_QUOTA</th>\n",
       "      <th>VL_PATRIM_LIQ</th>\n",
       "      <th>CAPTC_DIA</th>\n",
       "      <th>RESG_DIA</th>\n",
       "      <th>NR_COTST</th>\n",
       "    </tr>\n",
       "  </thead>\n",
       "  <tbody>\n",
       "    <tr>\n",
       "      <th>2129367</th>\n",
       "      <td>CLASSES - FIF</td>\n",
       "      <td>07.663.592/0001-70</td>\n",
       "      <td>NaN</td>\n",
       "      <td>2025-08-29</td>\n",
       "      <td>2.577709e+08</td>\n",
       "      <td>7.618974</td>\n",
       "      <td>2.581133e+08</td>\n",
       "      <td>0.0</td>\n",
       "      <td>0.00</td>\n",
       "      <td>325</td>\n",
       "    </tr>\n",
       "    <tr>\n",
       "      <th>2129433</th>\n",
       "      <td>CLASSES - FIF</td>\n",
       "      <td>07.875.686/0001-03</td>\n",
       "      <td>NaN</td>\n",
       "      <td>2025-08-29</td>\n",
       "      <td>3.032548e+07</td>\n",
       "      <td>8.668530</td>\n",
       "      <td>3.024328e+07</td>\n",
       "      <td>0.0</td>\n",
       "      <td>0.00</td>\n",
       "      <td>4</td>\n",
       "    </tr>\n",
       "    <tr>\n",
       "      <th>2130411</th>\n",
       "      <td>CLASSES - FIF</td>\n",
       "      <td>10.459.361/0001-54</td>\n",
       "      <td>NaN</td>\n",
       "      <td>2025-08-29</td>\n",
       "      <td>1.729132e+06</td>\n",
       "      <td>4.075924</td>\n",
       "      <td>1.740082e+06</td>\n",
       "      <td>0.0</td>\n",
       "      <td>0.00</td>\n",
       "      <td>6</td>\n",
       "    </tr>\n",
       "    <tr>\n",
       "      <th>2131108</th>\n",
       "      <td>CLASSES - FIF</td>\n",
       "      <td>12.282.747/0001-69</td>\n",
       "      <td>NaN</td>\n",
       "      <td>2025-08-29</td>\n",
       "      <td>1.711455e+08</td>\n",
       "      <td>375.407002</td>\n",
       "      <td>1.708280e+08</td>\n",
       "      <td>0.0</td>\n",
       "      <td>58000.00</td>\n",
       "      <td>99</td>\n",
       "    </tr>\n",
       "    <tr>\n",
       "      <th>2131117</th>\n",
       "      <td>CLASSES - FIF</td>\n",
       "      <td>12.297.830/0001-01</td>\n",
       "      <td>NaN</td>\n",
       "      <td>2025-08-29</td>\n",
       "      <td>2.218588e+08</td>\n",
       "      <td>574.871540</td>\n",
       "      <td>2.734126e+08</td>\n",
       "      <td>100000.0</td>\n",
       "      <td>60900.00</td>\n",
       "      <td>2</td>\n",
       "    </tr>\n",
       "    <tr>\n",
       "      <th>...</th>\n",
       "      <td>...</td>\n",
       "      <td>...</td>\n",
       "      <td>...</td>\n",
       "      <td>...</td>\n",
       "      <td>...</td>\n",
       "      <td>...</td>\n",
       "      <td>...</td>\n",
       "      <td>...</td>\n",
       "      <td>...</td>\n",
       "      <td>...</td>\n",
       "    </tr>\n",
       "    <tr>\n",
       "      <th>2151939</th>\n",
       "      <td>CLASSES - FIF</td>\n",
       "      <td>60.171.849/0001-50</td>\n",
       "      <td>NaN</td>\n",
       "      <td>2025-08-29</td>\n",
       "      <td>4.821805e+07</td>\n",
       "      <td>1.186525</td>\n",
       "      <td>4.862970e+07</td>\n",
       "      <td>0.0</td>\n",
       "      <td>0.00</td>\n",
       "      <td>8</td>\n",
       "    </tr>\n",
       "    <tr>\n",
       "      <th>2151949</th>\n",
       "      <td>CLASSES - FIF</td>\n",
       "      <td>60.184.974/0001-02</td>\n",
       "      <td>NaN</td>\n",
       "      <td>2025-08-29</td>\n",
       "      <td>3.265355e+07</td>\n",
       "      <td>1.089486</td>\n",
       "      <td>3.215059e+07</td>\n",
       "      <td>630000.0</td>\n",
       "      <td>0.00</td>\n",
       "      <td>3</td>\n",
       "    </tr>\n",
       "    <tr>\n",
       "      <th>2152010</th>\n",
       "      <td>CLASSES - FIF</td>\n",
       "      <td>60.354.488/0001-87</td>\n",
       "      <td>NaN</td>\n",
       "      <td>2025-08-29</td>\n",
       "      <td>2.772108e+07</td>\n",
       "      <td>10.541175</td>\n",
       "      <td>2.771243e+07</td>\n",
       "      <td>0.0</td>\n",
       "      <td>0.00</td>\n",
       "      <td>24</td>\n",
       "    </tr>\n",
       "    <tr>\n",
       "      <th>2152269</th>\n",
       "      <td>CLASSES - FIF</td>\n",
       "      <td>61.018.922/0001-10</td>\n",
       "      <td>NaN</td>\n",
       "      <td>2025-08-29</td>\n",
       "      <td>3.997304e+08</td>\n",
       "      <td>3.523309</td>\n",
       "      <td>3.993344e+08</td>\n",
       "      <td>195002.4</td>\n",
       "      <td>34595.37</td>\n",
       "      <td>19</td>\n",
       "    </tr>\n",
       "    <tr>\n",
       "      <th>2152401</th>\n",
       "      <td>CLASSES - FIF</td>\n",
       "      <td>61.290.820/0001-50</td>\n",
       "      <td>NaN</td>\n",
       "      <td>2025-08-29</td>\n",
       "      <td>2.730527e+07</td>\n",
       "      <td>474.118071</td>\n",
       "      <td>2.678595e+07</td>\n",
       "      <td>65000.0</td>\n",
       "      <td>44053.37</td>\n",
       "      <td>1</td>\n",
       "    </tr>\n",
       "  </tbody>\n",
       "</table>\n",
       "<p>419 rows × 10 columns</p>\n",
       "</div>"
      ],
      "text/plain": [
       "        TP_FUNDO_CLASSE   CNPJ_FUNDO_CLASSE ID_SUBCLASSE  DT_COMPTC  \\\n",
       "2129367   CLASSES - FIF  07.663.592/0001-70          NaN 2025-08-29   \n",
       "2129433   CLASSES - FIF  07.875.686/0001-03          NaN 2025-08-29   \n",
       "2130411   CLASSES - FIF  10.459.361/0001-54          NaN 2025-08-29   \n",
       "2131108   CLASSES - FIF  12.282.747/0001-69          NaN 2025-08-29   \n",
       "2131117   CLASSES - FIF  12.297.830/0001-01          NaN 2025-08-29   \n",
       "...                 ...                 ...          ...        ...   \n",
       "2151939   CLASSES - FIF  60.171.849/0001-50          NaN 2025-08-29   \n",
       "2151949   CLASSES - FIF  60.184.974/0001-02          NaN 2025-08-29   \n",
       "2152010   CLASSES - FIF  60.354.488/0001-87          NaN 2025-08-29   \n",
       "2152269   CLASSES - FIF  61.018.922/0001-10          NaN 2025-08-29   \n",
       "2152401   CLASSES - FIF  61.290.820/0001-50          NaN 2025-08-29   \n",
       "\n",
       "             VL_TOTAL    VL_QUOTA  VL_PATRIM_LIQ  CAPTC_DIA  RESG_DIA  \\\n",
       "2129367  2.577709e+08    7.618974   2.581133e+08        0.0      0.00   \n",
       "2129433  3.032548e+07    8.668530   3.024328e+07        0.0      0.00   \n",
       "2130411  1.729132e+06    4.075924   1.740082e+06        0.0      0.00   \n",
       "2131108  1.711455e+08  375.407002   1.708280e+08        0.0  58000.00   \n",
       "2131117  2.218588e+08  574.871540   2.734126e+08   100000.0  60900.00   \n",
       "...               ...         ...            ...        ...       ...   \n",
       "2151939  4.821805e+07    1.186525   4.862970e+07        0.0      0.00   \n",
       "2151949  3.265355e+07    1.089486   3.215059e+07   630000.0      0.00   \n",
       "2152010  2.772108e+07   10.541175   2.771243e+07        0.0      0.00   \n",
       "2152269  3.997304e+08    3.523309   3.993344e+08   195002.4  34595.37   \n",
       "2152401  2.730527e+07  474.118071   2.678595e+07    65000.0  44053.37   \n",
       "\n",
       "         NR_COTST  \n",
       "2129367       325  \n",
       "2129433         4  \n",
       "2130411         6  \n",
       "2131108        99  \n",
       "2131117         2  \n",
       "...           ...  \n",
       "2151939         8  \n",
       "2151949         3  \n",
       "2152010        24  \n",
       "2152269        19  \n",
       "2152401         1  \n",
       "\n",
       "[419 rows x 10 columns]"
      ]
     },
     "execution_count": 41,
     "metadata": {},
     "output_type": "execute_result"
    }
   ],
   "source": [
    "fundos_long_bias_data"
   ]
  },
  {
   "cell_type": "code",
   "execution_count": 42,
   "id": "87a837bf",
   "metadata": {},
   "outputs": [],
   "source": [
    "pl_long_bias = fundos_long_bias_data[['CNPJ_FUNDO_CLASSE','VL_PATRIM_LIQ']]"
   ]
  },
  {
   "cell_type": "code",
   "execution_count": 45,
   "id": "e3c86706",
   "metadata": {},
   "outputs": [],
   "source": [
    "pl_long_bias_nomes = pl_long_bias.merge(df_long,how='left')"
   ]
  },
  {
   "cell_type": "code",
   "execution_count": 47,
   "id": "dda38120",
   "metadata": {},
   "outputs": [],
   "source": [
    "pl_long_bias_nomes.to_excel(r\"C:\\Users\\PedroCervo-Quantitas\\Downloads\\long_bias.xlsx\")"
   ]
  },
  {
   "cell_type": "markdown",
   "id": "bda5a01d",
   "metadata": {},
   "source": [
    "teste rentabilidade cvm"
   ]
  },
  {
   "cell_type": "code",
   "execution_count": 4,
   "id": "e3a8ede3",
   "metadata": {},
   "outputs": [],
   "source": [
    "from dateutil.relativedelta import relativedelta\n",
    "from datetime import date, datetime, timedelta\n",
    "import cvmpy\n",
    "\n",
    "d0 = datetime.today().date()\n",
    "mes1 = d0 - relativedelta(months=1)\n",
    "mes2 = d0 - relativedelta(months=2)\n",
    "mes3 = d0 - relativedelta(months=3)\n",
    "mes4 = d0 - relativedelta(months=4)\n",
    "mes5 = d0 - relativedelta(months=5)\n",
    "mes6 = d0 - relativedelta(months=6)\n",
    "mes7 = d0 - relativedelta(months=7)\n",
    "mes8 = d0 - relativedelta(months=8)\n",
    "mes9 = d0 - relativedelta(months=9)\n",
    "mes10 = d0 - relativedelta(months=10)\n",
    "mes11 = d0 - relativedelta(months=11)\n",
    "mes12 = d0 - relativedelta(months=12)\n",
    "m1 = mes1.strftime(\"%m/%Y\")\n",
    "m2 = mes2.strftime(\"%m/%Y\")\n",
    "m3 = mes3.strftime(\"%m/%Y\")\n",
    "m4 = mes4.strftime(\"%m/%Y\")"
   ]
  },
  {
   "cell_type": "code",
   "execution_count": 5,
   "id": "253f7d0f",
   "metadata": {},
   "outputs": [],
   "source": [
    "def informes_cvm(m4,m1):\n",
    "    # Carrega informe diario do mês\n",
    "    fundos = cvmpy.FI()\n",
    "    fundos.fetch_historical_data(dataset=\"informe_diario\", start_date=m4, end_date=m1)\n",
    "    return fundos"
   ]
  },
  {
   "cell_type": "code",
   "execution_count": 6,
   "id": "f32be774",
   "metadata": {},
   "outputs": [
    {
     "name": "stdout",
     "output_type": "stream",
     "text": [
      "https://dados.cvm.gov.br/dados/FI/DOC/INF_DIARIO/DADOS/inf_diario_fi_202505.zip\n",
      "https://dados.cvm.gov.br/dados/FI/DOC/INF_DIARIO/DADOS/inf_diario_fi_202506.zip\n",
      "https://dados.cvm.gov.br/dados/FI/DOC/INF_DIARIO/DADOS/inf_diario_fi_202507.zip\n",
      "https://dados.cvm.gov.br/dados/FI/DOC/INF_DIARIO/DADOS/inf_diario_fi_202508.zip\n",
      "Done.\n"
     ]
    }
   ],
   "source": [
    "fundos = informes_cvm(m4,m1)"
   ]
  },
  {
   "cell_type": "code",
   "execution_count": 11,
   "id": "47264635",
   "metadata": {},
   "outputs": [],
   "source": [
    "informe_diario = fundos.informe_diario.inf_diario_fi"
   ]
  },
  {
   "cell_type": "code",
   "execution_count": 14,
   "id": "d2417987",
   "metadata": {},
   "outputs": [],
   "source": [
    "df_pactual = informe_diario.loc[informe_diario['CNPJ_FUNDO_CLASSE'] == '00.888.897/0001-31']"
   ]
  },
  {
   "cell_type": "code",
   "execution_count": 18,
   "id": "e228c319",
   "metadata": {},
   "outputs": [
    {
     "data": {
      "text/html": [
       "<div>\n",
       "<style scoped>\n",
       "    .dataframe tbody tr th:only-of-type {\n",
       "        vertical-align: middle;\n",
       "    }\n",
       "\n",
       "    .dataframe tbody tr th {\n",
       "        vertical-align: top;\n",
       "    }\n",
       "\n",
       "    .dataframe thead th {\n",
       "        text-align: right;\n",
       "    }\n",
       "</style>\n",
       "<table border=\"1\" class=\"dataframe\">\n",
       "  <thead>\n",
       "    <tr style=\"text-align: right;\">\n",
       "      <th></th>\n",
       "      <th>TP_FUNDO_CLASSE</th>\n",
       "      <th>CNPJ_FUNDO_CLASSE</th>\n",
       "      <th>ID_SUBCLASSE</th>\n",
       "      <th>DT_COMPTC</th>\n",
       "      <th>VL_TOTAL</th>\n",
       "      <th>VL_QUOTA</th>\n",
       "      <th>VL_PATRIM_LIQ</th>\n",
       "      <th>CAPTC_DIA</th>\n",
       "      <th>RESG_DIA</th>\n",
       "      <th>NR_COTST</th>\n",
       "    </tr>\n",
       "  </thead>\n",
       "  <tbody>\n",
       "    <tr>\n",
       "      <th>147</th>\n",
       "      <td>FI</td>\n",
       "      <td>00.888.897/0001-31</td>\n",
       "      <td>NaN</td>\n",
       "      <td>2025-05-02</td>\n",
       "      <td>1.080064e+09</td>\n",
       "      <td>61.106703</td>\n",
       "      <td>1.079529e+09</td>\n",
       "      <td>1944401.58</td>\n",
       "      <td>3606336.08</td>\n",
       "      <td>15096</td>\n",
       "    </tr>\n",
       "    <tr>\n",
       "      <th>25451</th>\n",
       "      <td>FI</td>\n",
       "      <td>00.888.897/0001-31</td>\n",
       "      <td>NaN</td>\n",
       "      <td>2025-05-05</td>\n",
       "      <td>1.078635e+09</td>\n",
       "      <td>61.109967</td>\n",
       "      <td>1.075691e+09</td>\n",
       "      <td>964841.24</td>\n",
       "      <td>4860092.97</td>\n",
       "      <td>15063</td>\n",
       "    </tr>\n",
       "    <tr>\n",
       "      <th>50758</th>\n",
       "      <td>FI</td>\n",
       "      <td>00.888.897/0001-31</td>\n",
       "      <td>NaN</td>\n",
       "      <td>2025-05-06</td>\n",
       "      <td>1.075135e+09</td>\n",
       "      <td>61.149274</td>\n",
       "      <td>1.075464e+09</td>\n",
       "      <td>867564.40</td>\n",
       "      <td>1786864.06</td>\n",
       "      <td>15037</td>\n",
       "    </tr>\n",
       "    <tr>\n",
       "      <th>76240</th>\n",
       "      <td>FI</td>\n",
       "      <td>00.888.897/0001-31</td>\n",
       "      <td>NaN</td>\n",
       "      <td>2025-05-07</td>\n",
       "      <td>1.073687e+09</td>\n",
       "      <td>61.150622</td>\n",
       "      <td>1.072953e+09</td>\n",
       "      <td>252528.83</td>\n",
       "      <td>2787643.40</td>\n",
       "      <td>15003</td>\n",
       "    </tr>\n",
       "    <tr>\n",
       "      <th>101588</th>\n",
       "      <td>FI</td>\n",
       "      <td>00.888.897/0001-31</td>\n",
       "      <td>NaN</td>\n",
       "      <td>2025-05-08</td>\n",
       "      <td>1.070576e+09</td>\n",
       "      <td>61.162907</td>\n",
       "      <td>1.070833e+09</td>\n",
       "      <td>548353.82</td>\n",
       "      <td>2883194.54</td>\n",
       "      <td>14972</td>\n",
       "    </tr>\n",
       "    <tr>\n",
       "      <th>...</th>\n",
       "      <td>...</td>\n",
       "      <td>...</td>\n",
       "      <td>...</td>\n",
       "      <td>...</td>\n",
       "      <td>...</td>\n",
       "      <td>...</td>\n",
       "      <td>...</td>\n",
       "      <td>...</td>\n",
       "      <td>...</td>\n",
       "      <td>...</td>\n",
       "    </tr>\n",
       "    <tr>\n",
       "      <th>2077741</th>\n",
       "      <td>CLASSES - FIF</td>\n",
       "      <td>00.888.897/0001-31</td>\n",
       "      <td>MZMRC1747322915</td>\n",
       "      <td>2025-08-27</td>\n",
       "      <td>8.031825e+08</td>\n",
       "      <td>63.685572</td>\n",
       "      <td>8.025574e+08</td>\n",
       "      <td>604448.66</td>\n",
       "      <td>8858136.30</td>\n",
       "      <td>13738</td>\n",
       "    </tr>\n",
       "    <tr>\n",
       "      <th>2102771</th>\n",
       "      <td>CLASSES - FIF</td>\n",
       "      <td>00.888.897/0001-31</td>\n",
       "      <td>RBMFN1747320951</td>\n",
       "      <td>2025-08-28</td>\n",
       "      <td>3.421578e+07</td>\n",
       "      <td>63.842895</td>\n",
       "      <td>3.419928e+07</td>\n",
       "      <td>9000.00</td>\n",
       "      <td>3000.00</td>\n",
       "      <td>1</td>\n",
       "    </tr>\n",
       "    <tr>\n",
       "      <th>2102772</th>\n",
       "      <td>CLASSES - FIF</td>\n",
       "      <td>00.888.897/0001-31</td>\n",
       "      <td>MZMRC1747322915</td>\n",
       "      <td>2025-08-28</td>\n",
       "      <td>8.038961e+08</td>\n",
       "      <td>63.775438</td>\n",
       "      <td>8.032381e+08</td>\n",
       "      <td>918143.18</td>\n",
       "      <td>1369992.69</td>\n",
       "      <td>13727</td>\n",
       "    </tr>\n",
       "    <tr>\n",
       "      <th>2127808</th>\n",
       "      <td>CLASSES - FIF</td>\n",
       "      <td>00.888.897/0001-31</td>\n",
       "      <td>RBMFN1747320951</td>\n",
       "      <td>2025-08-29</td>\n",
       "      <td>3.426594e+07</td>\n",
       "      <td>63.951644</td>\n",
       "      <td>3.424854e+07</td>\n",
       "      <td>2000.00</td>\n",
       "      <td>11000.00</td>\n",
       "      <td>1</td>\n",
       "    </tr>\n",
       "    <tr>\n",
       "      <th>2127809</th>\n",
       "      <td>CLASSES - FIF</td>\n",
       "      <td>00.888.897/0001-31</td>\n",
       "      <td>MZMRC1747322915</td>\n",
       "      <td>2025-08-29</td>\n",
       "      <td>8.041661e+08</td>\n",
       "      <td>63.882825</td>\n",
       "      <td>8.034708e+08</td>\n",
       "      <td>1894780.75</td>\n",
       "      <td>3014598.40</td>\n",
       "      <td>13723</td>\n",
       "    </tr>\n",
       "  </tbody>\n",
       "</table>\n",
       "<p>161 rows × 10 columns</p>\n",
       "</div>"
      ],
      "text/plain": [
       "        TP_FUNDO_CLASSE   CNPJ_FUNDO_CLASSE     ID_SUBCLASSE  DT_COMPTC  \\\n",
       "147                  FI  00.888.897/0001-31              NaN 2025-05-02   \n",
       "25451                FI  00.888.897/0001-31              NaN 2025-05-05   \n",
       "50758                FI  00.888.897/0001-31              NaN 2025-05-06   \n",
       "76240                FI  00.888.897/0001-31              NaN 2025-05-07   \n",
       "101588               FI  00.888.897/0001-31              NaN 2025-05-08   \n",
       "...                 ...                 ...              ...        ...   \n",
       "2077741   CLASSES - FIF  00.888.897/0001-31  MZMRC1747322915 2025-08-27   \n",
       "2102771   CLASSES - FIF  00.888.897/0001-31  RBMFN1747320951 2025-08-28   \n",
       "2102772   CLASSES - FIF  00.888.897/0001-31  MZMRC1747322915 2025-08-28   \n",
       "2127808   CLASSES - FIF  00.888.897/0001-31  RBMFN1747320951 2025-08-29   \n",
       "2127809   CLASSES - FIF  00.888.897/0001-31  MZMRC1747322915 2025-08-29   \n",
       "\n",
       "             VL_TOTAL   VL_QUOTA  VL_PATRIM_LIQ   CAPTC_DIA    RESG_DIA  \\\n",
       "147      1.080064e+09  61.106703   1.079529e+09  1944401.58  3606336.08   \n",
       "25451    1.078635e+09  61.109967   1.075691e+09   964841.24  4860092.97   \n",
       "50758    1.075135e+09  61.149274   1.075464e+09   867564.40  1786864.06   \n",
       "76240    1.073687e+09  61.150622   1.072953e+09   252528.83  2787643.40   \n",
       "101588   1.070576e+09  61.162907   1.070833e+09   548353.82  2883194.54   \n",
       "...               ...        ...            ...         ...         ...   \n",
       "2077741  8.031825e+08  63.685572   8.025574e+08   604448.66  8858136.30   \n",
       "2102771  3.421578e+07  63.842895   3.419928e+07     9000.00     3000.00   \n",
       "2102772  8.038961e+08  63.775438   8.032381e+08   918143.18  1369992.69   \n",
       "2127808  3.426594e+07  63.951644   3.424854e+07     2000.00    11000.00   \n",
       "2127809  8.041661e+08  63.882825   8.034708e+08  1894780.75  3014598.40   \n",
       "\n",
       "         NR_COTST  \n",
       "147         15096  \n",
       "25451       15063  \n",
       "50758       15037  \n",
       "76240       15003  \n",
       "101588      14972  \n",
       "...           ...  \n",
       "2077741     13738  \n",
       "2102771         1  \n",
       "2102772     13727  \n",
       "2127808         1  \n",
       "2127809     13723  \n",
       "\n",
       "[161 rows x 10 columns]"
      ]
     },
     "execution_count": 18,
     "metadata": {},
     "output_type": "execute_result"
    }
   ],
   "source": [
    "df_pactual"
   ]
  },
  {
   "cell_type": "code",
   "execution_count": 21,
   "id": "074afc2b",
   "metadata": {},
   "outputs": [],
   "source": [
    "repetidos = df_pactual[df_pactual.duplicated(subset=[\"DT_COMPTC\"], keep=False)]"
   ]
  },
  {
   "cell_type": "code",
   "execution_count": 23,
   "id": "5bc62f45",
   "metadata": {},
   "outputs": [],
   "source": [
    "cnpjs_repetidos = repetidos['CNPJ_FUNDO_CLASSE'].unique().tolist()"
   ]
  },
  {
   "cell_type": "code",
   "execution_count": 27,
   "id": "3be178a9",
   "metadata": {},
   "outputs": [],
   "source": [
    "max_dt = repetidos['DT_COMPTC'].max()\n",
    "df_last = repetidos.loc[repetidos['DT_COMPTC'] == max_dt]"
   ]
  },
  {
   "cell_type": "code",
   "execution_count": 30,
   "id": "c7d0775f",
   "metadata": {},
   "outputs": [],
   "source": [
    "maior = df_last['VL_PATRIM_LIQ'].max()"
   ]
  },
  {
   "cell_type": "code",
   "execution_count": 36,
   "id": "62329aee",
   "metadata": {},
   "outputs": [],
   "source": [
    "ml2 = df_last.loc[df_last['VL_PATRIM_LIQ'] == maior]['ID_SUBCLASSE'].iloc[0]"
   ]
  },
  {
   "cell_type": "code",
   "execution_count": 37,
   "id": "580bd268",
   "metadata": {},
   "outputs": [
    {
     "data": {
      "text/plain": [
       "'MZMRC1747322915'"
      ]
     },
     "execution_count": 37,
     "metadata": {},
     "output_type": "execute_result"
    }
   ],
   "source": [
    "ml2"
   ]
  },
  {
   "cell_type": "code",
   "execution_count": 40,
   "id": "876d938c",
   "metadata": {},
   "outputs": [],
   "source": [
    "for valor in cnpjs_repetidos:\n",
    "    df = df_pactual.loc[df_pactual['CNPJ_FUNDO_CLASSE'] == valor]\n",
    "    max_dt = df['DT_COMPTC'].max()\n",
    "    df_last = df.loc[df['DT_COMPTC'] == max_dt]\n",
    "    maior = df_last['VL_PATRIM_LIQ'].max()\n",
    "    subclasse = df_last.loc[df_last['VL_PATRIM_LIQ'] == maior]['ID_SUBCLASSE'].iloc[0]\n",
    "    df_pactual = df_pactual.loc[df_pactual['ID_SUBCLASSE'] != subclasse]"
   ]
  },
  {
   "cell_type": "code",
   "execution_count": 41,
   "id": "e7fd791d",
   "metadata": {},
   "outputs": [
    {
     "data": {
      "text/html": [
       "<div>\n",
       "<style scoped>\n",
       "    .dataframe tbody tr th:only-of-type {\n",
       "        vertical-align: middle;\n",
       "    }\n",
       "\n",
       "    .dataframe tbody tr th {\n",
       "        vertical-align: top;\n",
       "    }\n",
       "\n",
       "    .dataframe thead th {\n",
       "        text-align: right;\n",
       "    }\n",
       "</style>\n",
       "<table border=\"1\" class=\"dataframe\">\n",
       "  <thead>\n",
       "    <tr style=\"text-align: right;\">\n",
       "      <th></th>\n",
       "      <th>TP_FUNDO_CLASSE</th>\n",
       "      <th>CNPJ_FUNDO_CLASSE</th>\n",
       "      <th>ID_SUBCLASSE</th>\n",
       "      <th>DT_COMPTC</th>\n",
       "      <th>VL_TOTAL</th>\n",
       "      <th>VL_QUOTA</th>\n",
       "      <th>VL_PATRIM_LIQ</th>\n",
       "      <th>CAPTC_DIA</th>\n",
       "      <th>RESG_DIA</th>\n",
       "      <th>NR_COTST</th>\n",
       "    </tr>\n",
       "  </thead>\n",
       "  <tbody>\n",
       "    <tr>\n",
       "      <th>147</th>\n",
       "      <td>FI</td>\n",
       "      <td>00.888.897/0001-31</td>\n",
       "      <td>NaN</td>\n",
       "      <td>2025-05-02</td>\n",
       "      <td>1.080064e+09</td>\n",
       "      <td>61.106703</td>\n",
       "      <td>1.079529e+09</td>\n",
       "      <td>1944401.58</td>\n",
       "      <td>3606336.08</td>\n",
       "      <td>15096</td>\n",
       "    </tr>\n",
       "    <tr>\n",
       "      <th>25451</th>\n",
       "      <td>FI</td>\n",
       "      <td>00.888.897/0001-31</td>\n",
       "      <td>NaN</td>\n",
       "      <td>2025-05-05</td>\n",
       "      <td>1.078635e+09</td>\n",
       "      <td>61.109967</td>\n",
       "      <td>1.075691e+09</td>\n",
       "      <td>964841.24</td>\n",
       "      <td>4860092.97</td>\n",
       "      <td>15063</td>\n",
       "    </tr>\n",
       "    <tr>\n",
       "      <th>50758</th>\n",
       "      <td>FI</td>\n",
       "      <td>00.888.897/0001-31</td>\n",
       "      <td>NaN</td>\n",
       "      <td>2025-05-06</td>\n",
       "      <td>1.075135e+09</td>\n",
       "      <td>61.149274</td>\n",
       "      <td>1.075464e+09</td>\n",
       "      <td>867564.40</td>\n",
       "      <td>1786864.06</td>\n",
       "      <td>15037</td>\n",
       "    </tr>\n",
       "    <tr>\n",
       "      <th>76240</th>\n",
       "      <td>FI</td>\n",
       "      <td>00.888.897/0001-31</td>\n",
       "      <td>NaN</td>\n",
       "      <td>2025-05-07</td>\n",
       "      <td>1.073687e+09</td>\n",
       "      <td>61.150622</td>\n",
       "      <td>1.072953e+09</td>\n",
       "      <td>252528.83</td>\n",
       "      <td>2787643.40</td>\n",
       "      <td>15003</td>\n",
       "    </tr>\n",
       "    <tr>\n",
       "      <th>101588</th>\n",
       "      <td>FI</td>\n",
       "      <td>00.888.897/0001-31</td>\n",
       "      <td>NaN</td>\n",
       "      <td>2025-05-08</td>\n",
       "      <td>1.070576e+09</td>\n",
       "      <td>61.162907</td>\n",
       "      <td>1.070833e+09</td>\n",
       "      <td>548353.82</td>\n",
       "      <td>2883194.54</td>\n",
       "      <td>14972</td>\n",
       "    </tr>\n",
       "    <tr>\n",
       "      <th>...</th>\n",
       "      <td>...</td>\n",
       "      <td>...</td>\n",
       "      <td>...</td>\n",
       "      <td>...</td>\n",
       "      <td>...</td>\n",
       "      <td>...</td>\n",
       "      <td>...</td>\n",
       "      <td>...</td>\n",
       "      <td>...</td>\n",
       "      <td>...</td>\n",
       "    </tr>\n",
       "    <tr>\n",
       "      <th>2027588</th>\n",
       "      <td>CLASSES - FIF</td>\n",
       "      <td>00.888.897/0001-31</td>\n",
       "      <td>RBMFN1747320951</td>\n",
       "      <td>2025-08-25</td>\n",
       "      <td>3.406103e+07</td>\n",
       "      <td>63.698760</td>\n",
       "      <td>3.404716e+07</td>\n",
       "      <td>0.00</td>\n",
       "      <td>15000.00</td>\n",
       "      <td>1</td>\n",
       "    </tr>\n",
       "    <tr>\n",
       "      <th>2052687</th>\n",
       "      <td>CLASSES - FIF</td>\n",
       "      <td>00.888.897/0001-31</td>\n",
       "      <td>RBMFN1747320951</td>\n",
       "      <td>2025-08-26</td>\n",
       "      <td>3.404463e+07</td>\n",
       "      <td>63.709477</td>\n",
       "      <td>3.402989e+07</td>\n",
       "      <td>0.00</td>\n",
       "      <td>23000.00</td>\n",
       "      <td>1</td>\n",
       "    </tr>\n",
       "    <tr>\n",
       "      <th>2077740</th>\n",
       "      <td>CLASSES - FIF</td>\n",
       "      <td>00.888.897/0001-31</td>\n",
       "      <td>RBMFN1747320951</td>\n",
       "      <td>2025-08-27</td>\n",
       "      <td>3.416021e+07</td>\n",
       "      <td>63.752004</td>\n",
       "      <td>3.414460e+07</td>\n",
       "      <td>150000.00</td>\n",
       "      <td>58000.00</td>\n",
       "      <td>1</td>\n",
       "    </tr>\n",
       "    <tr>\n",
       "      <th>2102771</th>\n",
       "      <td>CLASSES - FIF</td>\n",
       "      <td>00.888.897/0001-31</td>\n",
       "      <td>RBMFN1747320951</td>\n",
       "      <td>2025-08-28</td>\n",
       "      <td>3.421578e+07</td>\n",
       "      <td>63.842895</td>\n",
       "      <td>3.419928e+07</td>\n",
       "      <td>9000.00</td>\n",
       "      <td>3000.00</td>\n",
       "      <td>1</td>\n",
       "    </tr>\n",
       "    <tr>\n",
       "      <th>2127808</th>\n",
       "      <td>CLASSES - FIF</td>\n",
       "      <td>00.888.897/0001-31</td>\n",
       "      <td>RBMFN1747320951</td>\n",
       "      <td>2025-08-29</td>\n",
       "      <td>3.426594e+07</td>\n",
       "      <td>63.951644</td>\n",
       "      <td>3.424854e+07</td>\n",
       "      <td>2000.00</td>\n",
       "      <td>11000.00</td>\n",
       "      <td>1</td>\n",
       "    </tr>\n",
       "  </tbody>\n",
       "</table>\n",
       "<p>85 rows × 10 columns</p>\n",
       "</div>"
      ],
      "text/plain": [
       "        TP_FUNDO_CLASSE   CNPJ_FUNDO_CLASSE     ID_SUBCLASSE  DT_COMPTC  \\\n",
       "147                  FI  00.888.897/0001-31              NaN 2025-05-02   \n",
       "25451                FI  00.888.897/0001-31              NaN 2025-05-05   \n",
       "50758                FI  00.888.897/0001-31              NaN 2025-05-06   \n",
       "76240                FI  00.888.897/0001-31              NaN 2025-05-07   \n",
       "101588               FI  00.888.897/0001-31              NaN 2025-05-08   \n",
       "...                 ...                 ...              ...        ...   \n",
       "2027588   CLASSES - FIF  00.888.897/0001-31  RBMFN1747320951 2025-08-25   \n",
       "2052687   CLASSES - FIF  00.888.897/0001-31  RBMFN1747320951 2025-08-26   \n",
       "2077740   CLASSES - FIF  00.888.897/0001-31  RBMFN1747320951 2025-08-27   \n",
       "2102771   CLASSES - FIF  00.888.897/0001-31  RBMFN1747320951 2025-08-28   \n",
       "2127808   CLASSES - FIF  00.888.897/0001-31  RBMFN1747320951 2025-08-29   \n",
       "\n",
       "             VL_TOTAL   VL_QUOTA  VL_PATRIM_LIQ   CAPTC_DIA    RESG_DIA  \\\n",
       "147      1.080064e+09  61.106703   1.079529e+09  1944401.58  3606336.08   \n",
       "25451    1.078635e+09  61.109967   1.075691e+09   964841.24  4860092.97   \n",
       "50758    1.075135e+09  61.149274   1.075464e+09   867564.40  1786864.06   \n",
       "76240    1.073687e+09  61.150622   1.072953e+09   252528.83  2787643.40   \n",
       "101588   1.070576e+09  61.162907   1.070833e+09   548353.82  2883194.54   \n",
       "...               ...        ...            ...         ...         ...   \n",
       "2027588  3.406103e+07  63.698760   3.404716e+07        0.00    15000.00   \n",
       "2052687  3.404463e+07  63.709477   3.402989e+07        0.00    23000.00   \n",
       "2077740  3.416021e+07  63.752004   3.414460e+07   150000.00    58000.00   \n",
       "2102771  3.421578e+07  63.842895   3.419928e+07     9000.00     3000.00   \n",
       "2127808  3.426594e+07  63.951644   3.424854e+07     2000.00    11000.00   \n",
       "\n",
       "         NR_COTST  \n",
       "147         15096  \n",
       "25451       15063  \n",
       "50758       15037  \n",
       "76240       15003  \n",
       "101588      14972  \n",
       "...           ...  \n",
       "2027588         1  \n",
       "2052687         1  \n",
       "2077740         1  \n",
       "2102771         1  \n",
       "2127808         1  \n",
       "\n",
       "[85 rows x 10 columns]"
      ]
     },
     "execution_count": 41,
     "metadata": {},
     "output_type": "execute_result"
    }
   ],
   "source": [
    "df_pactual"
   ]
  },
  {
   "cell_type": "code",
   "execution_count": 15,
   "id": "aa7f553a",
   "metadata": {},
   "outputs": [],
   "source": [
    "df_pactual.to_excel(r\"C:\\Users\\PedroCervo-Quantitas\\Downloads\\fundos_btg.xlsx\")"
   ]
  }
 ],
 "metadata": {
  "kernelspec": {
   "display_name": "env_teste",
   "language": "python",
   "name": "python3"
  },
  "language_info": {
   "codemirror_mode": {
    "name": "ipython",
    "version": 3
   },
   "file_extension": ".py",
   "mimetype": "text/x-python",
   "name": "python",
   "nbconvert_exporter": "python",
   "pygments_lexer": "ipython3",
   "version": "3.11.10"
  }
 },
 "nbformat": 4,
 "nbformat_minor": 5
}
