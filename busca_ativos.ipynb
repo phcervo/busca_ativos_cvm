{
 "cells": [
  {
   "cell_type": "code",
   "execution_count": null,
   "metadata": {},
   "outputs": [],
   "source": [
    "import cvmpy\n",
    "from dateutil.relativedelta import relativedelta\n",
    "from datetime import date, datetime, timedelta\n",
    "import pandas as pd\n",
    "\n",
    "dm = DateManager()\n",
    "d0 = datetime.today().date()\n",
    "mes4 = dm.previous_business_day(d0 - relativedelta(months=4))\n",
    "m4 = mes4.strftime(\"%Y-%m-%d\")\n",
    "\n",
    "# Create an instance of FI datasets\n",
    "fi = cvmpy.FI()"
   ]
  },
  {
   "cell_type": "code",
   "execution_count": null,
   "metadata": {},
   "outputs": [
    {
     "name": "stdout",
     "output_type": "stream",
     "text": [
      "https://dados.cvm.gov.br/dados/FI/DOC/CDA/DADOS/cda_fi_202411.zip\n",
      "Done.\n"
     ]
    }
   ],
   "source": [
    "fi.fetch_historical_data(dataset=\"composicao_diversificacao\",start_date=m4,end_date=m4)\n",
    "#fi.fetch_historical_data(dataset=\"composicao_diversificacao\", start_date='2025-03-01', end_date='2025-03-31')"
   ]
  },
  {
   "cell_type": "code",
   "execution_count": 68,
   "metadata": {},
   "outputs": [
    {
     "data": {
      "text/plain": [
       "Index(['TP_FUNDO_CLASSE', 'CNPJ_FUNDO_CLASSE', 'DENOM_SOCIAL', 'DT_COMPTC',\n",
       "       'TP_APLIC', 'TP_ATIVO', 'EMISSOR_LIGADO', 'TP_NEGOC', 'QT_VENDA_NEGOC',\n",
       "       'VL_VENDA_NEGOC', 'QT_AQUIS_NEGOC', 'VL_AQUIS_NEGOC', 'QT_POS_FINAL',\n",
       "       'VL_MERC_POS_FINAL', 'VL_CUSTO_POS_FINAL', 'DT_CONFID_APLIC',\n",
       "       'CNPJ_EMISSOR', 'EMISSOR', 'DT_VENC', 'TITULO_POSFX',\n",
       "       'CD_INDEXADOR_POSFX', 'DS_INDEXADOR_POSFX', 'PR_INDEXADOR_POSFX',\n",
       "       'PR_CUPOM_POSFX', 'PR_TAXA_PREFX', 'RISCO_EMISSOR', 'AG_RISCO',\n",
       "       'DT_RISCO', 'GRAU_RISCO'],\n",
       "      dtype='object')"
      ]
     },
     "execution_count": 68,
     "metadata": {},
     "output_type": "execute_result"
    }
   ],
   "source": [
    "fi.composicao_diversificacao.cda_fi_BLC_5.columns"
   ]
  },
  {
   "cell_type": "code",
   "execution_count": null,
   "metadata": {},
   "outputs": [],
   "source": [
    "df_bancarios = fi.composicao_diversificacao.cda_fi_BLC_5[['CNPJ_FUNDO_CLASSE','DENOM_SOCIAL', 'DT_COMPTC','TP_APLIC', 'TP_ATIVO','CNPJ_EMISSOR', 'EMISSOR','TITULO_POSFX',\n",
    "       'CD_INDEXADOR_POSFX','VL_MERC_POS_FINAL']]"
   ]
  },
  {
   "cell_type": "code",
   "execution_count": null,
   "metadata": {},
   "outputs": [],
   "source": [
    "# fi.composicao_diversificacao.cda_fi_BLC_4.TP_ATIVO. #RV e DEB\n",
    "# fi.composicao_diversificacao.cda_fi_BLC_5.TP_ATIVO #RF BANCARIO"
   ]
  },
  {
   "cell_type": "code",
   "execution_count": 63,
   "metadata": {},
   "outputs": [],
   "source": [
    "# Lista emissores de Bancários\n",
    "lista_emissores_bancarios = df_bancarios['EMISSOR'].unique().tolist()"
   ]
  },
  {
   "cell_type": "code",
   "execution_count": null,
   "metadata": {},
   "outputs": [],
   "source": [
    "df_rv = fi.composicao_diversificacao.cda_fi_BLC_4[['CNPJ_FUNDO_CLASSE','DENOM_SOCIAL','DT_COMPTC','TP_APLIC', 'TP_ATIVO', 'EMISSOR_LIGADO', 'QT_POS_FINAL','CD_ATIVO','VL_MERC_POS_FINAL',\n",
    "                                                   'DT_INI_VIGENCIA','DT_FIM_VIGENCIA']]\n",
    "df_debentures = df_rv.loc[df_rv['TP_APLIC'] == 'Debêntures']"
   ]
  }
 ],
 "metadata": {
  "kernelspec": {
   "display_name": "env_teste",
   "language": "python",
   "name": "python3"
  },
  "language_info": {
   "codemirror_mode": {
    "name": "ipython",
    "version": 3
   },
   "file_extension": ".py",
   "mimetype": "text/x-python",
   "name": "python",
   "nbconvert_exporter": "python",
   "pygments_lexer": "ipython3",
   "version": "3.11.10"
  }
 },
 "nbformat": 4,
 "nbformat_minor": 2
}
